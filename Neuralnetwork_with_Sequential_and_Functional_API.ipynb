{
  "nbformat": 4,
  "nbformat_minor": 0,
  "metadata": {
    "colab": {
      "name": "Neuralnetwork with Sequential and Functional API.ipynb",
      "provenance": [],
      "collapsed_sections": []
    },
    "kernelspec": {
      "name": "python3",
      "display_name": "Python 3"
    },
    "language_info": {
      "name": "python"
    }
  },
  "cells": [
    {
      "cell_type": "code",
      "execution_count": 1,
      "metadata": {
        "id": "LTTEqBTuv1wz"
      },
      "outputs": [],
      "source": [
        "import tensorflow as tf\n",
        "from tensorflow import keras\n",
        "from tensorflow.keras import layers\n",
        "from tensorflow.keras.datasets import mnist"
      ]
    },
    {
      "cell_type": "code",
      "source": [
        "(x_train ,y_train) , (x_test ,y_test) = mnist.load_data()"
      ],
      "metadata": {
        "colab": {
          "base_uri": "https://localhost:8080/"
        },
        "id": "a6F5odS0sMB5",
        "outputId": "094ae9d1-9093-4860-fcd6-6de24b5bc130"
      },
      "execution_count": 2,
      "outputs": [
        {
          "output_type": "stream",
          "name": "stdout",
          "text": [
            "Downloading data from https://storage.googleapis.com/tensorflow/tf-keras-datasets/mnist.npz\n",
            "11493376/11490434 [==============================] - 0s 0us/step\n",
            "11501568/11490434 [==============================] - 0s 0us/step\n"
          ]
        }
      ]
    },
    {
      "cell_type": "code",
      "source": [
        "print(x_train.shape)\n",
        "print(y_train.shape)"
      ],
      "metadata": {
        "colab": {
          "base_uri": "https://localhost:8080/"
        },
        "id": "Vuv30FGesjPJ",
        "outputId": "776a07e0-f525-48fe-d944-ca39970bc429"
      },
      "execution_count": 4,
      "outputs": [
        {
          "output_type": "stream",
          "name": "stdout",
          "text": [
            "(60000, 28, 28)\n",
            "(60000,)\n"
          ]
        }
      ]
    },
    {
      "cell_type": "code",
      "source": [
        "# For neaural network we have to flat the x_train means (60000 , 28*28)\n",
        "x_train = x_train.reshape(-1 , 28*28).astype(\"float32\") / 255.0  # here -1 means first dimension will remain same\n",
        "x_test = x_test.reshape(-1 , 28*28).astype(\"float32\") / 255.0"
      ],
      "metadata": {
        "id": "SQ3obKx8xG-u"
      },
      "execution_count": 10,
      "outputs": []
    },
    {
      "cell_type": "code",
      "source": [
        "print(x_train.shape)"
      ],
      "metadata": {
        "colab": {
          "base_uri": "https://localhost:8080/"
        },
        "id": "v0wOBI-jxk2A",
        "outputId": "27f6c89a-807f-4c9d-c085-f4a0ae49596a"
      },
      "execution_count": 9,
      "outputs": [
        {
          "output_type": "stream",
          "name": "stdout",
          "text": [
            "(60000, 784)\n"
          ]
        }
      ]
    },
    {
      "cell_type": "code",
      "source": [
        "print(x_test.shape)\n",
        "print(y_test.shape)"
      ],
      "metadata": {
        "colab": {
          "base_uri": "https://localhost:8080/"
        },
        "id": "0Pbqikk1snRB",
        "outputId": "ac7118d3-bbaf-45dd-b5aa-3086e67e29aa"
      },
      "execution_count": 11,
      "outputs": [
        {
          "output_type": "stream",
          "name": "stdout",
          "text": [
            "(10000, 784)\n",
            "(10000,)\n"
          ]
        }
      ]
    },
    {
      "cell_type": "markdown",
      "source": [
        "```\n",
        "Now create basic neaural network and for that we will use Sequential API of Keras\n",
        "```"
      ],
      "metadata": {
        "id": "j94QcfEi1rXs"
      }
    },
    {
      "cell_type": "markdown",
      "source": [
        "```\n",
        "Sequential have drawback that it is (very convinient but not very flexible) bcoz at a time it takes only 1 output and 1 input\n",
        "```"
      ],
      "metadata": {
        "id": "slE1Ndfu2EMJ"
      }
    },
    {
      "cell_type": "code",
      "source": [
        "model = keras.Sequential(\n",
        "    [\n",
        "      keras.Input(shape = (28*28)),\n",
        "      layers.Dense(512 , activation = 'relu'), # here 512 is number of nodes in 1st layer\n",
        "      layers.Dense(256 , activation = 'relu'),\n",
        "      layers.Dense(10) # out put layer , basically we set acitvation = \"softmax\" but we will asign in loss\n",
        "    ]\n",
        ")\n",
        "\n",
        "model.compile(\n",
        "    loss = keras.losses.SparseCategoricalCrossentropy(from_logits=True), # here from_logits = True set first softmax activation fun then after loss will be counted\n",
        "    optimizer = keras.optimizers.Adam(0.001),\n",
        "    metrics = [\"accuracy\"],\n",
        ")\n"
      ],
      "metadata": {
        "id": "NRtqnPP91qil"
      },
      "execution_count": 19,
      "outputs": []
    },
    {
      "cell_type": "code",
      "source": [
        "model.summary()"
      ],
      "metadata": {
        "colab": {
          "base_uri": "https://localhost:8080/"
        },
        "id": "zl3Z-TM3-6rs",
        "outputId": "52775266-31f7-4c59-b9b2-28e555d15917"
      },
      "execution_count": 20,
      "outputs": [
        {
          "output_type": "stream",
          "name": "stdout",
          "text": [
            "Model: \"sequential_4\"\n",
            "_________________________________________________________________\n",
            " Layer (type)                Output Shape              Param #   \n",
            "=================================================================\n",
            " dense_12 (Dense)            (None, 512)               401920    \n",
            "                                                                 \n",
            " dense_13 (Dense)            (None, 256)               131328    \n",
            "                                                                 \n",
            " dense_14 (Dense)            (None, 10)                2570      \n",
            "                                                                 \n",
            "=================================================================\n",
            "Total params: 535,818\n",
            "Trainable params: 535,818\n",
            "Non-trainable params: 0\n",
            "_________________________________________________________________\n"
          ]
        }
      ]
    },
    {
      "cell_type": "code",
      "source": [
        "model.fit(x_train , y_train , batch_size=32, epochs=10 , verbose=2)"
      ],
      "metadata": {
        "colab": {
          "base_uri": "https://localhost:8080/"
        },
        "id": "H37Rsn5V3pwz",
        "outputId": "adf21b38-1fb3-4e43-8d9f-5121e8829b04"
      },
      "execution_count": 17,
      "outputs": [
        {
          "output_type": "stream",
          "name": "stdout",
          "text": [
            "Epoch 1/10\n",
            "1875/1875 - 10s - loss: 0.1883 - accuracy: 0.9434 - 10s/epoch - 5ms/step\n",
            "Epoch 2/10\n",
            "1875/1875 - 11s - loss: 0.0801 - accuracy: 0.9745 - 11s/epoch - 6ms/step\n",
            "Epoch 3/10\n",
            "1875/1875 - 11s - loss: 0.0538 - accuracy: 0.9828 - 11s/epoch - 6ms/step\n",
            "Epoch 4/10\n",
            "1875/1875 - 11s - loss: 0.0410 - accuracy: 0.9866 - 11s/epoch - 6ms/step\n",
            "Epoch 5/10\n",
            "1875/1875 - 11s - loss: 0.0325 - accuracy: 0.9897 - 11s/epoch - 6ms/step\n",
            "Epoch 6/10\n",
            "1875/1875 - 10s - loss: 0.0265 - accuracy: 0.9912 - 10s/epoch - 6ms/step\n",
            "Epoch 7/10\n",
            "1875/1875 - 10s - loss: 0.0239 - accuracy: 0.9923 - 10s/epoch - 5ms/step\n",
            "Epoch 8/10\n",
            "1875/1875 - 11s - loss: 0.0204 - accuracy: 0.9936 - 11s/epoch - 6ms/step\n",
            "Epoch 9/10\n",
            "1875/1875 - 11s - loss: 0.0190 - accuracy: 0.9937 - 11s/epoch - 6ms/step\n",
            "Epoch 10/10\n",
            "1875/1875 - 10s - loss: 0.0183 - accuracy: 0.9944 - 10s/epoch - 5ms/step\n"
          ]
        },
        {
          "output_type": "execute_result",
          "data": {
            "text/plain": [
              "<keras.callbacks.History at 0x7f8fa1470690>"
            ]
          },
          "metadata": {},
          "execution_count": 17
        }
      ]
    },
    {
      "cell_type": "code",
      "source": [
        "model.evaluate(x_test , y_test , batch_size=32, verbose=2)"
      ],
      "metadata": {
        "colab": {
          "base_uri": "https://localhost:8080/"
        },
        "id": "34UsiXwM5hlB",
        "outputId": "187c0815-68b1-4d66-ccdd-15ea65e5d07d"
      },
      "execution_count": 18,
      "outputs": [
        {
          "output_type": "stream",
          "name": "stdout",
          "text": [
            "313/313 - 1s - loss: 0.1006 - accuracy: 0.9813 - 955ms/epoch - 3ms/step\n"
          ]
        },
        {
          "output_type": "execute_result",
          "data": {
            "text/plain": [
              "[0.10061903297901154, 0.9812999963760376]"
            ]
          },
          "metadata": {},
          "execution_count": 18
        }
      ]
    },
    {
      "cell_type": "markdown",
      "source": [
        "```\n",
        "Functional API (More FLexible)\n",
        "```"
      ],
      "metadata": {
        "id": "Gx-Tdk2Z--4K"
      }
    },
    {
      "cell_type": "code",
      "source": [
        "input = keras.Input(shape = (28*28))\n",
        "l1 = layers.Dense(512 , activation = 'relu')(input)\n",
        "l2 = layers.Dense(256 , activation = 'relu')(l1)\n",
        "output = layers.Dense(10 , activation = 'softmax')(l2)\n",
        "\n",
        "model1 = keras.Model(inputs = input , outputs = output)"
      ],
      "metadata": {
        "id": "BZNO7KJJ_CJF"
      },
      "execution_count": 21,
      "outputs": []
    },
    {
      "cell_type": "code",
      "source": [
        "model1.compile(\n",
        "    loss = keras.losses.SparseCategoricalCrossentropy(),\n",
        "    optimizer = keras.optimizers.Adam(0.001),\n",
        "    metrics = [\"accuracy\"],\n",
        ")"
      ],
      "metadata": {
        "id": "c60I1ZwwAPZa"
      },
      "execution_count": 22,
      "outputs": []
    },
    {
      "cell_type": "code",
      "source": [
        "model1.summary()"
      ],
      "metadata": {
        "colab": {
          "base_uri": "https://localhost:8080/"
        },
        "id": "5wxrGjD-Ac8e",
        "outputId": "e36c59ef-22bb-4cb2-d1bd-80d788750964"
      },
      "execution_count": 24,
      "outputs": [
        {
          "output_type": "stream",
          "name": "stdout",
          "text": [
            "Model: \"model\"\n",
            "_________________________________________________________________\n",
            " Layer (type)                Output Shape              Param #   \n",
            "=================================================================\n",
            " input_2 (InputLayer)        [(None, 784)]             0         \n",
            "                                                                 \n",
            " dense_15 (Dense)            (None, 512)               401920    \n",
            "                                                                 \n",
            " dense_16 (Dense)            (None, 256)               131328    \n",
            "                                                                 \n",
            " dense_17 (Dense)            (None, 10)                2570      \n",
            "                                                                 \n",
            "=================================================================\n",
            "Total params: 535,818\n",
            "Trainable params: 535,818\n",
            "Non-trainable params: 0\n",
            "_________________________________________________________________\n"
          ]
        }
      ]
    },
    {
      "cell_type": "code",
      "source": [
        "model1.fit(x_train , y_train , batch_size=32, epochs=10 , verbose=2)"
      ],
      "metadata": {
        "colab": {
          "base_uri": "https://localhost:8080/"
        },
        "id": "9nPf6V2AAgKT",
        "outputId": "052955b4-61ec-4494-8f31-2ea501c9fa81"
      },
      "execution_count": 25,
      "outputs": [
        {
          "output_type": "stream",
          "name": "stdout",
          "text": [
            "Epoch 1/10\n",
            "1875/1875 - 12s - loss: 0.1859 - accuracy: 0.9439 - 12s/epoch - 6ms/step\n",
            "Epoch 2/10\n",
            "1875/1875 - 11s - loss: 0.0790 - accuracy: 0.9753 - 11s/epoch - 6ms/step\n",
            "Epoch 3/10\n",
            "1875/1875 - 11s - loss: 0.0554 - accuracy: 0.9829 - 11s/epoch - 6ms/step\n",
            "Epoch 4/10\n",
            "1875/1875 - 11s - loss: 0.0427 - accuracy: 0.9865 - 11s/epoch - 6ms/step\n",
            "Epoch 5/10\n",
            "1875/1875 - 11s - loss: 0.0303 - accuracy: 0.9906 - 11s/epoch - 6ms/step\n",
            "Epoch 6/10\n",
            "1875/1875 - 11s - loss: 0.0273 - accuracy: 0.9915 - 11s/epoch - 6ms/step\n",
            "Epoch 7/10\n",
            "1875/1875 - 11s - loss: 0.0249 - accuracy: 0.9922 - 11s/epoch - 6ms/step\n",
            "Epoch 8/10\n",
            "1875/1875 - 11s - loss: 0.0199 - accuracy: 0.9935 - 11s/epoch - 6ms/step\n",
            "Epoch 9/10\n",
            "1875/1875 - 11s - loss: 0.0183 - accuracy: 0.9941 - 11s/epoch - 6ms/step\n",
            "Epoch 10/10\n",
            "1875/1875 - 11s - loss: 0.0182 - accuracy: 0.9944 - 11s/epoch - 6ms/step\n"
          ]
        },
        {
          "output_type": "execute_result",
          "data": {
            "text/plain": [
              "<keras.callbacks.History at 0x7f8fa13eec50>"
            ]
          },
          "metadata": {},
          "execution_count": 25
        }
      ]
    },
    {
      "cell_type": "code",
      "source": [
        "model1.evaluate(x_test , y_test , batch_size=32, verbose=2)"
      ],
      "metadata": {
        "colab": {
          "base_uri": "https://localhost:8080/"
        },
        "id": "DeCE-h4VAlO3",
        "outputId": "f19593cf-3843-4363-9819-1810c62ecd60"
      },
      "execution_count": 26,
      "outputs": [
        {
          "output_type": "stream",
          "name": "stdout",
          "text": [
            "313/313 - 1s - loss: 0.1066 - accuracy: 0.9767 - 976ms/epoch - 3ms/step\n"
          ]
        },
        {
          "output_type": "execute_result",
          "data": {
            "text/plain": [
              "[0.10657380521297455, 0.9767000079154968]"
            ]
          },
          "metadata": {},
          "execution_count": 26
        }
      ]
    }
  ]
}