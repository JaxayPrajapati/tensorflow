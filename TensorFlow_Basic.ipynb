{
  "nbformat": 4,
  "nbformat_minor": 0,
  "metadata": {
    "colab": {
      "name": "TensorFlow_Basic.ipynb",
      "provenance": []
    },
    "kernelspec": {
      "name": "python3",
      "display_name": "Python 3"
    },
    "language_info": {
      "name": "python"
    }
  },
  "cells": [
    {
      "cell_type": "code",
      "execution_count": 1,
      "metadata": {
        "id": "nJE8KT-wnuAm"
      },
      "outputs": [],
      "source": [
        "import tensorflow as tf"
      ]
    },
    {
      "cell_type": "markdown",
      "source": [
        "**Initialization of Tensors**"
      ],
      "metadata": {
        "id": "6KNk3xeAoZCw"
      }
    },
    {
      "cell_type": "markdown",
      "source": [
        "```\n",
        "Create a tensor\n",
        "```"
      ],
      "metadata": {
        "id": "MKHWCgsLoeB-"
      }
    },
    {
      "cell_type": "code",
      "source": [
        "x = tf.constant(4)\n",
        "print(x)"
      ],
      "metadata": {
        "colab": {
          "base_uri": "https://localhost:8080/"
        },
        "id": "AsVQG5qsoA5W",
        "outputId": "ec15d07b-8350-4457-cc59-894a931f3f23"
      },
      "execution_count": 3,
      "outputs": [
        {
          "output_type": "stream",
          "name": "stdout",
          "text": [
            "tf.Tensor(4, shape=(), dtype=int32)\n"
          ]
        }
      ]
    },
    {
      "cell_type": "markdown",
      "source": [
        "```\n",
        "Specify shape and dtype of tensor\n",
        "```"
      ],
      "metadata": {
        "id": "3jsTjsxkojZZ"
      }
    },
    {
      "cell_type": "code",
      "source": [
        "a = tf.constant(4, shape = (1,1) , dtype = tf.float32)\n",
        "print(a)"
      ],
      "metadata": {
        "colab": {
          "base_uri": "https://localhost:8080/"
        },
        "id": "NWf1sQJHoQbY",
        "outputId": "89c71098-41fc-4fac-a471-1fe3d905dc40"
      },
      "execution_count": 5,
      "outputs": [
        {
          "output_type": "stream",
          "name": "stdout",
          "text": [
            "tf.Tensor([[4.]], shape=(1, 1), dtype=float32)\n"
          ]
        }
      ]
    },
    {
      "cell_type": "code",
      "source": [
        "a1 = tf.constant([[1,2,3] , [4,5,6]])\n",
        "print(a1)"
      ],
      "metadata": {
        "colab": {
          "base_uri": "https://localhost:8080/"
        },
        "id": "NB6dF_pAowLN",
        "outputId": "f2e0b73e-c585-42a4-e02c-ac37a5b8988e"
      },
      "execution_count": 7,
      "outputs": [
        {
          "output_type": "stream",
          "name": "stdout",
          "text": [
            "tf.Tensor(\n",
            "[[1 2 3]\n",
            " [4 5 6]], shape=(2, 3), dtype=int32)\n"
          ]
        }
      ]
    },
    {
      "cell_type": "code",
      "source": [
        "a2 = tf.ones((3,3))\n",
        "print(a2)"
      ],
      "metadata": {
        "colab": {
          "base_uri": "https://localhost:8080/"
        },
        "id": "EINcSFq6pBmy",
        "outputId": "ac39096f-49a4-4330-9183-ecd0ed920205"
      },
      "execution_count": 8,
      "outputs": [
        {
          "output_type": "stream",
          "name": "stdout",
          "text": [
            "tf.Tensor(\n",
            "[[1. 1. 1.]\n",
            " [1. 1. 1.]\n",
            " [1. 1. 1.]], shape=(3, 3), dtype=float32)\n"
          ]
        }
      ]
    },
    {
      "cell_type": "code",
      "source": [
        "a3 = tf.zeros((2,3))\n",
        "print(a3)"
      ],
      "metadata": {
        "colab": {
          "base_uri": "https://localhost:8080/"
        },
        "id": "L9kFUSmVpN2v",
        "outputId": "07dda552-6403-40c5-b695-023f39f83c63"
      },
      "execution_count": 9,
      "outputs": [
        {
          "output_type": "stream",
          "name": "stdout",
          "text": [
            "tf.Tensor(\n",
            "[[0. 0. 0.]\n",
            " [0. 0. 0.]], shape=(2, 3), dtype=float32)\n"
          ]
        }
      ]
    },
    {
      "cell_type": "code",
      "source": [
        "# identity martix\n",
        "a4 = tf.eye(3)\n",
        "print(a4)"
      ],
      "metadata": {
        "colab": {
          "base_uri": "https://localhost:8080/"
        },
        "id": "S0cVUJJwpWI6",
        "outputId": "0125f2b5-cb46-4dbd-a798-042ede736b8a"
      },
      "execution_count": 11,
      "outputs": [
        {
          "output_type": "stream",
          "name": "stdout",
          "text": [
            "tf.Tensor(\n",
            "[[1. 0. 0.]\n",
            " [0. 1. 0.]\n",
            " [0. 0. 1.]], shape=(3, 3), dtype=float32)\n"
          ]
        }
      ]
    },
    {
      "cell_type": "markdown",
      "source": [
        "```\n",
        "Normal Distribution Matrix\n",
        "```"
      ],
      "metadata": {
        "id": "AkOdfuddpqgH"
      }
    },
    {
      "cell_type": "code",
      "source": [
        "a5 = tf.random.normal((3,3), mean=0, stddev=1)\n",
        "print(a5)"
      ],
      "metadata": {
        "colab": {
          "base_uri": "https://localhost:8080/"
        },
        "id": "6bhoe8ohpfqB",
        "outputId": "aa22fdc2-d007-488c-c445-80445dc875c0"
      },
      "execution_count": 12,
      "outputs": [
        {
          "output_type": "stream",
          "name": "stdout",
          "text": [
            "tf.Tensor(\n",
            "[[ 0.96134263  0.4879774   0.29639354]\n",
            " [ 0.40836278  0.18420948  0.84920794]\n",
            " [-0.59662205 -1.1685917  -1.8175701 ]], shape=(3, 3), dtype=float32)\n"
          ]
        }
      ]
    },
    {
      "cell_type": "code",
      "source": [
        "a6 = tf.range(start=1, limit=10, delta=2)\n",
        "print(a6)"
      ],
      "metadata": {
        "colab": {
          "base_uri": "https://localhost:8080/"
        },
        "id": "MHDsHxANp5i8",
        "outputId": "7648c848-e60a-460a-8bd3-866ae095f7c5"
      },
      "execution_count": 13,
      "outputs": [
        {
          "output_type": "stream",
          "name": "stdout",
          "text": [
            "tf.Tensor([1 3 5 7 9], shape=(5,), dtype=int32)\n"
          ]
        }
      ]
    },
    {
      "cell_type": "markdown",
      "source": [
        "**Mathematical Operations**"
      ],
      "metadata": {
        "id": "UTX9t_8VqaZo"
      }
    },
    {
      "cell_type": "code",
      "source": [
        "b = tf.constant([1,2,3])\n",
        "b1 = tf.constant([9,8,7])\n",
        "sum = tf.add(b , b1)\n",
        "sub = tf.subtract(b, b1)\n",
        "div = tf.divide(b, b1)\n",
        "mul = tf.multiply(b, b1)\n",
        "print(sum)\n",
        "print(sub)\n",
        "print(div)\n",
        "print(mul)"
      ],
      "metadata": {
        "colab": {
          "base_uri": "https://localhost:8080/"
        },
        "id": "NvdCNjazqLl2",
        "outputId": "af9d3009-32b2-452c-bcf6-d9fd0c1577d5"
      },
      "execution_count": 16,
      "outputs": [
        {
          "output_type": "stream",
          "name": "stdout",
          "text": [
            "tf.Tensor([10 10 10], shape=(3,), dtype=int32)\n",
            "tf.Tensor([-8 -6 -4], shape=(3,), dtype=int32)\n",
            "tf.Tensor([0.11111111 0.25       0.42857143], shape=(3,), dtype=float64)\n",
            "tf.Tensor([ 9 16 21], shape=(3,), dtype=int32)\n"
          ]
        }
      ]
    },
    {
      "cell_type": "code",
      "source": [
        "# dot product\n",
        "dotp = tf.tensordot(b, b1, axes=1)\n",
        "print(dotp)"
      ],
      "metadata": {
        "colab": {
          "base_uri": "https://localhost:8080/"
        },
        "id": "fvzglbNwqt83",
        "outputId": "db150b10-3b9a-4f11-d885-218d0a425b2a"
      },
      "execution_count": 17,
      "outputs": [
        {
          "output_type": "stream",
          "name": "stdout",
          "text": [
            "tf.Tensor(46, shape=(), dtype=int32)\n"
          ]
        }
      ]
    },
    {
      "cell_type": "code",
      "source": [
        "exp = b ** 5\n",
        "print(exp)"
      ],
      "metadata": {
        "colab": {
          "base_uri": "https://localhost:8080/"
        },
        "id": "i-csD_xUrYks",
        "outputId": "1e3465a9-9b5b-4d12-ed86-ff8dd1462bb0"
      },
      "execution_count": 18,
      "outputs": [
        {
          "output_type": "stream",
          "name": "stdout",
          "text": [
            "tf.Tensor([  1  32 243], shape=(3,), dtype=int32)\n"
          ]
        }
      ]
    },
    {
      "cell_type": "code",
      "source": [
        "# matrix multiplication\n",
        "b2 = tf.random.normal((2,3))\n",
        "b3 = tf.random.normal((3,4))\n",
        "matmul = tf.matmul(b2, b3)\n",
        "print(matmul)\n",
        "print(b2 @ b3)"
      ],
      "metadata": {
        "colab": {
          "base_uri": "https://localhost:8080/"
        },
        "id": "Jrby2UXXrqk5",
        "outputId": "447d04ec-53cd-4895-cdb7-2667d52a0a1c"
      },
      "execution_count": 24,
      "outputs": [
        {
          "output_type": "stream",
          "name": "stdout",
          "text": [
            "tf.Tensor(\n",
            "[[ 0.08016206 -0.5158484   2.546534    1.2433774 ]\n",
            " [-0.4798804  -2.897427   -0.20089734 -0.84337354]], shape=(2, 4), dtype=float32)\n",
            "tf.Tensor(\n",
            "[[ 0.08016206 -0.5158484   2.546534    1.2433774 ]\n",
            " [-0.4798804  -2.897427   -0.20089734 -0.84337354]], shape=(2, 4), dtype=float32)\n"
          ]
        }
      ]
    },
    {
      "cell_type": "markdown",
      "source": [
        "**Indexing**"
      ],
      "metadata": {
        "id": "HhJKwhxbtW7t"
      }
    },
    {
      "cell_type": "code",
      "source": [
        "b4 = tf.constant([0,1,2,3,4,5,6,7,8])\n",
        "print(b4[:])\n",
        "print(b4[1:])\n",
        "print(b4[1:3])\n",
        "print(b4[::2])"
      ],
      "metadata": {
        "colab": {
          "base_uri": "https://localhost:8080/"
        },
        "id": "bEcbktzrr8O5",
        "outputId": "afacba8f-ea3d-4e66-9962-64421fa59c4f"
      },
      "execution_count": 27,
      "outputs": [
        {
          "output_type": "stream",
          "name": "stdout",
          "text": [
            "tf.Tensor([0 1 2 3 4 5 6 7 8], shape=(9,), dtype=int32)\n",
            "tf.Tensor([1 2 3 4 5 6 7 8], shape=(8,), dtype=int32)\n",
            "tf.Tensor([1 2], shape=(2,), dtype=int32)\n",
            "tf.Tensor([0 2 4 6 8], shape=(5,), dtype=int32)\n"
          ]
        }
      ]
    },
    {
      "cell_type": "code",
      "source": [
        "# get index wise value\n",
        "x_ind = tf.gather(b4 , [0,3])\n",
        "print(x_ind)"
      ],
      "metadata": {
        "colab": {
          "base_uri": "https://localhost:8080/"
        },
        "id": "eVSDotu5tpF9",
        "outputId": "59e84ccc-414a-4b9a-8033-704724db88d1"
      },
      "execution_count": 29,
      "outputs": [
        {
          "output_type": "stream",
          "name": "stdout",
          "text": [
            "tf.Tensor([0 3], shape=(2,), dtype=int32)\n"
          ]
        }
      ]
    },
    {
      "cell_type": "code",
      "source": [
        "# reshaping\n",
        "b5 = tf.range(9)\n",
        "print(b5)"
      ],
      "metadata": {
        "colab": {
          "base_uri": "https://localhost:8080/"
        },
        "id": "jjNH2ilcuN4w",
        "outputId": "8423da75-2184-4686-e20b-0fccf107951d"
      },
      "execution_count": 30,
      "outputs": [
        {
          "output_type": "stream",
          "name": "stdout",
          "text": [
            "tf.Tensor([0 1 2 3 4 5 6 7 8], shape=(9,), dtype=int32)\n"
          ]
        }
      ]
    },
    {
      "cell_type": "code",
      "source": [
        "b6 = tf.reshape(b5 , (3,3))\n",
        "print(b6)"
      ],
      "metadata": {
        "colab": {
          "base_uri": "https://localhost:8080/"
        },
        "id": "0BEWHgrNucsq",
        "outputId": "53166878-6778-45fe-e835-8d053cb62bae"
      },
      "execution_count": 31,
      "outputs": [
        {
          "output_type": "stream",
          "name": "stdout",
          "text": [
            "tf.Tensor(\n",
            "[[0 1 2]\n",
            " [3 4 5]\n",
            " [6 7 8]], shape=(3, 3), dtype=int32)\n"
          ]
        }
      ]
    },
    {
      "cell_type": "code",
      "source": [
        "#trnapose\n",
        "b7 = tf.transpose(b6 , perm = [ 1,0])\n",
        "print(b7)"
      ],
      "metadata": {
        "colab": {
          "base_uri": "https://localhost:8080/"
        },
        "id": "V53Czi3nultF",
        "outputId": "474ec677-01e0-4805-bc6b-9428d71118a1"
      },
      "execution_count": 34,
      "outputs": [
        {
          "output_type": "stream",
          "name": "stdout",
          "text": [
            "tf.Tensor(\n",
            "[[0 3 6]\n",
            " [1 4 7]\n",
            " [2 5 8]], shape=(3, 3), dtype=int32)\n"
          ]
        }
      ]
    },
    {
      "cell_type": "code",
      "source": [
        ""
      ],
      "metadata": {
        "id": "o_KusdC6u06Y"
      },
      "execution_count": null,
      "outputs": []
    }
  ]
}