{
  "nbformat": 4,
  "nbformat_minor": 0,
  "metadata": {
    "colab": {
      "name": "CNNwith_sequential_and_functional_api.ipynb",
      "provenance": []
    },
    "kernelspec": {
      "name": "python3",
      "display_name": "Python 3"
    },
    "language_info": {
      "name": "python"
    },
    "accelerator": "GPU",
    "gpuClass": "standard"
  },
  "cells": [
    {
      "cell_type": "code",
      "execution_count": 1,
      "metadata": {
        "id": "gzzHRhVeUtIY"
      },
      "outputs": [],
      "source": [
        "import tensorflow as tf\n",
        "from tensorflow import keras\n",
        "from tensorflow.keras import layers\n",
        "from tensorflow.keras.datasets import cifar10"
      ]
    },
    {
      "cell_type": "code",
      "source": [
        "(x_train, y_train), (x_test, y_test) = cifar10.load_data()"
      ],
      "metadata": {
        "colab": {
          "base_uri": "https://localhost:8080/"
        },
        "id": "2sY-G2ZbY2Rf",
        "outputId": "8b6f2f05-39df-4f95-e018-00d7c7aa4282"
      },
      "execution_count": 2,
      "outputs": [
        {
          "output_type": "stream",
          "name": "stdout",
          "text": [
            "Downloading data from https://www.cs.toronto.edu/~kriz/cifar-10-python.tar.gz\n",
            "170500096/170498071 [==============================] - 6s 0us/step\n",
            "170508288/170498071 [==============================] - 6s 0us/step\n"
          ]
        }
      ]
    },
    {
      "cell_type": "code",
      "source": [
        "print(x_train.shape)\n",
        "print(y_train.shape)"
      ],
      "metadata": {
        "colab": {
          "base_uri": "https://localhost:8080/"
        },
        "id": "xShNy22FZdkB",
        "outputId": "cc919440-5677-4204-8695-9f913a8b57d6"
      },
      "execution_count": 3,
      "outputs": [
        {
          "output_type": "stream",
          "name": "stdout",
          "text": [
            "(50000, 32, 32, 3)\n",
            "(50000, 1)\n"
          ]
        }
      ]
    },
    {
      "cell_type": "code",
      "source": [
        "x_train = x_train.astype(\"float32\") / 255.0\n",
        "x_test = x_test.astype(\"float32\") / 255.0"
      ],
      "metadata": {
        "id": "s3moizPrZlml"
      },
      "execution_count": 4,
      "outputs": []
    },
    {
      "cell_type": "code",
      "source": [
        "model = keras.Sequential(\n",
        "    [\n",
        "      keras.Input(shape=(32,32,3)),\n",
        "      layers.Conv2D(32 , 3, padding = \"valid\" , activation=\"relu\"),\n",
        "      layers.MaxPooling2D(pool_size=(2,2)),\n",
        "      layers.Conv2D(64 , 3, activation=\"relu\"),\n",
        "      layers.MaxPooling2D(pool_size=(2,2)),\n",
        "      layers.Conv2D(128 , 3, activation=\"relu\"),\n",
        "      layers.Flatten(),\n",
        "      layers.Dense(64, activation = \"relu\"),\n",
        "      layers.Dense(10)\n",
        "    ]\n",
        ")\n",
        "\n",
        "model.compile(\n",
        "    loss = keras.losses.SparseCategoricalCrossentropy(from_logits=True),\n",
        "    optimizer = keras.optimizers.Adam(0.001),\n",
        "    metrics = [\"accuracy\"],\n",
        ")"
      ],
      "metadata": {
        "id": "R0fv68n8Z40K"
      },
      "execution_count": 15,
      "outputs": []
    },
    {
      "cell_type": "code",
      "source": [
        "print(model.summary())"
      ],
      "metadata": {
        "colab": {
          "base_uri": "https://localhost:8080/"
        },
        "id": "2zHCoTpSdNxu",
        "outputId": "d4b65962-9fd8-40f2-9934-fff141837446"
      },
      "execution_count": 16,
      "outputs": [
        {
          "output_type": "stream",
          "name": "stdout",
          "text": [
            "Model: \"sequential_3\"\n",
            "_________________________________________________________________\n",
            " Layer (type)                Output Shape              Param #   \n",
            "=================================================================\n",
            " conv2d_9 (Conv2D)           (None, 30, 30, 32)        896       \n",
            "                                                                 \n",
            " max_pooling2d_6 (MaxPooling  (None, 15, 15, 32)       0         \n",
            " 2D)                                                             \n",
            "                                                                 \n",
            " conv2d_10 (Conv2D)          (None, 13, 13, 64)        18496     \n",
            "                                                                 \n",
            " max_pooling2d_7 (MaxPooling  (None, 6, 6, 64)         0         \n",
            " 2D)                                                             \n",
            "                                                                 \n",
            " conv2d_11 (Conv2D)          (None, 4, 4, 128)         73856     \n",
            "                                                                 \n",
            " flatten_3 (Flatten)         (None, 2048)              0         \n",
            "                                                                 \n",
            " dense_6 (Dense)             (None, 64)                131136    \n",
            "                                                                 \n",
            " dense_7 (Dense)             (None, 10)                650       \n",
            "                                                                 \n",
            "=================================================================\n",
            "Total params: 225,034\n",
            "Trainable params: 225,034\n",
            "Non-trainable params: 0\n",
            "_________________________________________________________________\n",
            "None\n"
          ]
        }
      ]
    },
    {
      "cell_type": "code",
      "source": [
        "model.fit(x_train, y_train , batch_size=64, epochs=20, verbose=2)"
      ],
      "metadata": {
        "colab": {
          "base_uri": "https://localhost:8080/"
        },
        "id": "hTpbh8cjdVYe",
        "outputId": "c06a5556-3580-4a6b-a262-e5bea0d0fbed"
      },
      "execution_count": 17,
      "outputs": [
        {
          "output_type": "stream",
          "name": "stdout",
          "text": [
            "Epoch 1/20\n",
            "782/782 - 3s - loss: 1.5333 - accuracy: 0.4391 - 3s/epoch - 4ms/step\n",
            "Epoch 2/20\n",
            "782/782 - 3s - loss: 1.1533 - accuracy: 0.5916 - 3s/epoch - 4ms/step\n",
            "Epoch 3/20\n",
            "782/782 - 3s - loss: 0.9868 - accuracy: 0.6538 - 3s/epoch - 4ms/step\n",
            "Epoch 4/20\n",
            "782/782 - 3s - loss: 0.8723 - accuracy: 0.6948 - 3s/epoch - 4ms/step\n",
            "Epoch 5/20\n",
            "782/782 - 3s - loss: 0.7931 - accuracy: 0.7241 - 3s/epoch - 3ms/step\n",
            "Epoch 6/20\n",
            "782/782 - 3s - loss: 0.7187 - accuracy: 0.7503 - 3s/epoch - 4ms/step\n",
            "Epoch 7/20\n",
            "782/782 - 3s - loss: 0.6608 - accuracy: 0.7704 - 3s/epoch - 4ms/step\n",
            "Epoch 8/20\n",
            "782/782 - 3s - loss: 0.6090 - accuracy: 0.7882 - 3s/epoch - 4ms/step\n",
            "Epoch 9/20\n",
            "782/782 - 3s - loss: 0.5564 - accuracy: 0.8075 - 3s/epoch - 4ms/step\n",
            "Epoch 10/20\n",
            "782/782 - 3s - loss: 0.5131 - accuracy: 0.8218 - 3s/epoch - 4ms/step\n",
            "Epoch 11/20\n",
            "782/782 - 3s - loss: 0.4586 - accuracy: 0.8390 - 3s/epoch - 4ms/step\n",
            "Epoch 12/20\n",
            "782/782 - 3s - loss: 0.4258 - accuracy: 0.8512 - 3s/epoch - 4ms/step\n",
            "Epoch 13/20\n",
            "782/782 - 3s - loss: 0.3831 - accuracy: 0.8643 - 3s/epoch - 3ms/step\n",
            "Epoch 14/20\n",
            "782/782 - 3s - loss: 0.3469 - accuracy: 0.8758 - 3s/epoch - 4ms/step\n",
            "Epoch 15/20\n",
            "782/782 - 3s - loss: 0.3172 - accuracy: 0.8883 - 3s/epoch - 4ms/step\n",
            "Epoch 16/20\n",
            "782/782 - 3s - loss: 0.2799 - accuracy: 0.9003 - 3s/epoch - 3ms/step\n",
            "Epoch 17/20\n",
            "782/782 - 3s - loss: 0.2529 - accuracy: 0.9107 - 3s/epoch - 4ms/step\n",
            "Epoch 18/20\n",
            "782/782 - 3s - loss: 0.2277 - accuracy: 0.9189 - 3s/epoch - 3ms/step\n",
            "Epoch 19/20\n",
            "782/782 - 3s - loss: 0.2103 - accuracy: 0.9253 - 3s/epoch - 3ms/step\n",
            "Epoch 20/20\n",
            "782/782 - 3s - loss: 0.1879 - accuracy: 0.9327 - 3s/epoch - 4ms/step\n"
          ]
        },
        {
          "output_type": "execute_result",
          "data": {
            "text/plain": [
              "<keras.callbacks.History at 0x7f58c4f64c50>"
            ]
          },
          "metadata": {},
          "execution_count": 17
        }
      ]
    },
    {
      "cell_type": "code",
      "source": [
        "model.evaluate(x_test, y_test , batch_size=64, verbose=2)"
      ],
      "metadata": {
        "colab": {
          "base_uri": "https://localhost:8080/"
        },
        "id": "jajsmxG4dnUC",
        "outputId": "fcf1567f-d7f8-4f1a-9667-e7f8447b62e7"
      },
      "execution_count": 18,
      "outputs": [
        {
          "output_type": "stream",
          "name": "stdout",
          "text": [
            "157/157 - 1s - loss: 1.3476 - accuracy: 0.7148 - 732ms/epoch - 5ms/step\n"
          ]
        },
        {
          "output_type": "execute_result",
          "data": {
            "text/plain": [
              "[1.3475755453109741, 0.7148000001907349]"
            ]
          },
          "metadata": {},
          "execution_count": 18
        }
      ]
    },
    {
      "cell_type": "markdown",
      "source": [
        "**Here we can see that our model is overfitting on train data so , remove overfitting we have to do regularization and it only for practise**"
      ],
      "metadata": {
        "id": "BW81N8AZgJus"
      }
    },
    {
      "cell_type": "code",
      "source": [
        ""
      ],
      "metadata": {
        "id": "f1p8H3j3gI-m"
      },
      "execution_count": null,
      "outputs": []
    }
  ]
}